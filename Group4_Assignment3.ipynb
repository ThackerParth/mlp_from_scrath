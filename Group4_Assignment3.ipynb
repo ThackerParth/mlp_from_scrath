{
  "nbformat": 4,
  "nbformat_minor": 0,
  "metadata": {
    "colab": {
      "name": "Group4_Assignment3.ipynb",
      "provenance": [],
      "collapsed_sections": [],
      "include_colab_link": true
    },
    "kernelspec": {
      "name": "python3",
      "display_name": "Python 3"
    },
    "accelerator": "GPU"
  },
  "cells": [
    {
      "cell_type": "markdown",
      "metadata": {
        "id": "view-in-github",
        "colab_type": "text"
      },
      "source": [
        "<a href=\"https://colab.research.google.com/github/ThackerParth/mlp_from_scrath/blob/master/Group4_Assignment3.ipynb\" target=\"_parent\"><img src=\"https://colab.research.google.com/assets/colab-badge.svg\" alt=\"Open In Colab\"/></a>"
      ]
    },
    {
      "cell_type": "code",
      "metadata": {
        "_uuid": "0280feb6aa77a81e62bd5e3ee449ae4e226f7c0b",
        "id": "TWuO6lF7BjLe",
        "colab_type": "code",
        "colab": {}
      },
      "source": [
        "import pandas as pd\n",
        "import numpy as np\n",
        "from sklearn.preprocessing import MinMaxScaler"
      ],
      "execution_count": 0,
      "outputs": []
    },
    {
      "cell_type": "code",
      "metadata": {
        "_uuid": "bd0923bd2bb1afb142249907c305c10e522cc065",
        "id": "nv4IE4S7BjL4",
        "colab_type": "code",
        "outputId": "3ad91ea9-3230-4d4c-ecb4-655d65be42e8",
        "colab": {
          "base_uri": "https://localhost:8080/",
          "height": 34
        }
      },
      "source": [
        "X_train=pd.read_csv('data_set_ALL_AML_train.csv')\n",
        "X_train.shape"
      ],
      "execution_count": 0,
      "outputs": [
        {
          "output_type": "execute_result",
          "data": {
            "text/plain": [
              "(7129, 78)"
            ]
          },
          "metadata": {
            "tags": []
          },
          "execution_count": 2
        }
      ]
    },
    {
      "cell_type": "code",
      "metadata": {
        "_uuid": "d11e6a32998d0736fbe6de9ad5423e0f903646bf",
        "id": "j_jv2CYeBjMZ",
        "colab_type": "code",
        "outputId": "384a974a-d299-4f25-b997-a2de5deb2feb",
        "colab": {
          "base_uri": "https://localhost:8080/",
          "height": 34
        }
      },
      "source": [
        "y=pd.read_csv('actual.csv')\n",
        "y.shape"
      ],
      "execution_count": 0,
      "outputs": [
        {
          "output_type": "execute_result",
          "data": {
            "text/plain": [
              "(72, 2)"
            ]
          },
          "metadata": {
            "tags": []
          },
          "execution_count": 3
        }
      ]
    },
    {
      "cell_type": "code",
      "metadata": {
        "_uuid": "1d33268da262b61cf1bc4d3246c788c0d4890914",
        "id": "1aQDmMexBjMr",
        "colab_type": "code",
        "outputId": "de56f559-9b29-4afd-d933-4daa77edc5b4",
        "colab": {
          "base_uri": "https://localhost:8080/",
          "height": 34
        }
      },
      "source": [
        "X_test=pd.read_csv('data_set_ALL_AML_independent.csv')\n",
        "X_test.shape"
      ],
      "execution_count": 0,
      "outputs": [
        {
          "output_type": "execute_result",
          "data": {
            "text/plain": [
              "(7129, 70)"
            ]
          },
          "metadata": {
            "tags": []
          },
          "execution_count": 4
        }
      ]
    },
    {
      "cell_type": "code",
      "metadata": {
        "_uuid": "68181af48d18025f16e78912c17d43ea18234945",
        "id": "t0Vv8EFlBjNF",
        "colab_type": "code",
        "outputId": "c9433dd2-e33c-45a8-eb1c-2b8ea4f211fc",
        "colab": {
          "base_uri": "https://localhost:8080/",
          "height": 582
        }
      },
      "source": [
        "X_test.head()"
      ],
      "execution_count": 0,
      "outputs": [
        {
          "output_type": "execute_result",
          "data": {
            "text/html": [
              "<div>\n",
              "<style scoped>\n",
              "    .dataframe tbody tr th:only-of-type {\n",
              "        vertical-align: middle;\n",
              "    }\n",
              "\n",
              "    .dataframe tbody tr th {\n",
              "        vertical-align: top;\n",
              "    }\n",
              "\n",
              "    .dataframe thead th {\n",
              "        text-align: right;\n",
              "    }\n",
              "</style>\n",
              "<table border=\"1\" class=\"dataframe\">\n",
              "  <thead>\n",
              "    <tr style=\"text-align: right;\">\n",
              "      <th></th>\n",
              "      <th>Gene Description</th>\n",
              "      <th>Gene Accession Number</th>\n",
              "      <th>39</th>\n",
              "      <th>call</th>\n",
              "      <th>40</th>\n",
              "      <th>call.1</th>\n",
              "      <th>42</th>\n",
              "      <th>call.2</th>\n",
              "      <th>47</th>\n",
              "      <th>call.3</th>\n",
              "      <th>...</th>\n",
              "      <th>65</th>\n",
              "      <th>call.29</th>\n",
              "      <th>66</th>\n",
              "      <th>call.30</th>\n",
              "      <th>63</th>\n",
              "      <th>call.31</th>\n",
              "      <th>64</th>\n",
              "      <th>call.32</th>\n",
              "      <th>62</th>\n",
              "      <th>call.33</th>\n",
              "    </tr>\n",
              "  </thead>\n",
              "  <tbody>\n",
              "    <tr>\n",
              "      <th>0</th>\n",
              "      <td>AFFX-BioB-5_at (endogenous control)</td>\n",
              "      <td>AFFX-BioB-5_at</td>\n",
              "      <td>-342</td>\n",
              "      <td>A</td>\n",
              "      <td>-87</td>\n",
              "      <td>A</td>\n",
              "      <td>22</td>\n",
              "      <td>A</td>\n",
              "      <td>-243</td>\n",
              "      <td>A</td>\n",
              "      <td>...</td>\n",
              "      <td>-62</td>\n",
              "      <td>A</td>\n",
              "      <td>-58</td>\n",
              "      <td>A</td>\n",
              "      <td>-161</td>\n",
              "      <td>A</td>\n",
              "      <td>-48</td>\n",
              "      <td>A</td>\n",
              "      <td>-176</td>\n",
              "      <td>A</td>\n",
              "    </tr>\n",
              "    <tr>\n",
              "      <th>1</th>\n",
              "      <td>AFFX-BioB-M_at (endogenous control)</td>\n",
              "      <td>AFFX-BioB-M_at</td>\n",
              "      <td>-200</td>\n",
              "      <td>A</td>\n",
              "      <td>-248</td>\n",
              "      <td>A</td>\n",
              "      <td>-153</td>\n",
              "      <td>A</td>\n",
              "      <td>-218</td>\n",
              "      <td>A</td>\n",
              "      <td>...</td>\n",
              "      <td>-198</td>\n",
              "      <td>A</td>\n",
              "      <td>-217</td>\n",
              "      <td>A</td>\n",
              "      <td>-215</td>\n",
              "      <td>A</td>\n",
              "      <td>-531</td>\n",
              "      <td>A</td>\n",
              "      <td>-284</td>\n",
              "      <td>A</td>\n",
              "    </tr>\n",
              "    <tr>\n",
              "      <th>2</th>\n",
              "      <td>AFFX-BioB-3_at (endogenous control)</td>\n",
              "      <td>AFFX-BioB-3_at</td>\n",
              "      <td>41</td>\n",
              "      <td>A</td>\n",
              "      <td>262</td>\n",
              "      <td>A</td>\n",
              "      <td>17</td>\n",
              "      <td>A</td>\n",
              "      <td>-163</td>\n",
              "      <td>A</td>\n",
              "      <td>...</td>\n",
              "      <td>-5</td>\n",
              "      <td>A</td>\n",
              "      <td>63</td>\n",
              "      <td>A</td>\n",
              "      <td>-46</td>\n",
              "      <td>A</td>\n",
              "      <td>-124</td>\n",
              "      <td>A</td>\n",
              "      <td>-81</td>\n",
              "      <td>A</td>\n",
              "    </tr>\n",
              "    <tr>\n",
              "      <th>3</th>\n",
              "      <td>AFFX-BioC-5_at (endogenous control)</td>\n",
              "      <td>AFFX-BioC-5_at</td>\n",
              "      <td>328</td>\n",
              "      <td>A</td>\n",
              "      <td>295</td>\n",
              "      <td>A</td>\n",
              "      <td>276</td>\n",
              "      <td>A</td>\n",
              "      <td>182</td>\n",
              "      <td>A</td>\n",
              "      <td>...</td>\n",
              "      <td>141</td>\n",
              "      <td>A</td>\n",
              "      <td>95</td>\n",
              "      <td>A</td>\n",
              "      <td>146</td>\n",
              "      <td>A</td>\n",
              "      <td>431</td>\n",
              "      <td>A</td>\n",
              "      <td>9</td>\n",
              "      <td>A</td>\n",
              "    </tr>\n",
              "    <tr>\n",
              "      <th>4</th>\n",
              "      <td>AFFX-BioC-3_at (endogenous control)</td>\n",
              "      <td>AFFX-BioC-3_at</td>\n",
              "      <td>-224</td>\n",
              "      <td>A</td>\n",
              "      <td>-226</td>\n",
              "      <td>A</td>\n",
              "      <td>-211</td>\n",
              "      <td>A</td>\n",
              "      <td>-289</td>\n",
              "      <td>A</td>\n",
              "      <td>...</td>\n",
              "      <td>-256</td>\n",
              "      <td>A</td>\n",
              "      <td>-191</td>\n",
              "      <td>A</td>\n",
              "      <td>-172</td>\n",
              "      <td>A</td>\n",
              "      <td>-496</td>\n",
              "      <td>A</td>\n",
              "      <td>-294</td>\n",
              "      <td>A</td>\n",
              "    </tr>\n",
              "  </tbody>\n",
              "</table>\n",
              "<p>5 rows × 70 columns</p>\n",
              "</div>"
            ],
            "text/plain": [
              "                      Gene Description Gene Accession Number   39 call   40  \\\n",
              "0  AFFX-BioB-5_at (endogenous control)        AFFX-BioB-5_at -342    A  -87   \n",
              "1  AFFX-BioB-M_at (endogenous control)        AFFX-BioB-M_at -200    A -248   \n",
              "2  AFFX-BioB-3_at (endogenous control)        AFFX-BioB-3_at   41    A  262   \n",
              "3  AFFX-BioC-5_at (endogenous control)        AFFX-BioC-5_at  328    A  295   \n",
              "4  AFFX-BioC-3_at (endogenous control)        AFFX-BioC-3_at -224    A -226   \n",
              "\n",
              "  call.1   42 call.2   47 call.3   ...     65 call.29   66 call.30   63  \\\n",
              "0      A   22      A -243      A   ...    -62       A  -58       A -161   \n",
              "1      A -153      A -218      A   ...   -198       A -217       A -215   \n",
              "2      A   17      A -163      A   ...     -5       A   63       A  -46   \n",
              "3      A  276      A  182      A   ...    141       A   95       A  146   \n",
              "4      A -211      A -289      A   ...   -256       A -191       A -172   \n",
              "\n",
              "  call.31   64 call.32   62 call.33  \n",
              "0       A  -48       A -176       A  \n",
              "1       A -531       A -284       A  \n",
              "2       A -124       A  -81       A  \n",
              "3       A  431       A    9       A  \n",
              "4       A -496       A -294       A  \n",
              "\n",
              "[5 rows x 70 columns]"
            ]
          },
          "metadata": {
            "tags": []
          },
          "execution_count": 5
        }
      ]
    },
    {
      "cell_type": "code",
      "metadata": {
        "_uuid": "dbb8e0586ea1b2aaba9b3c1c22eacd589df53385",
        "id": "YIGsXdJrBjNk",
        "colab_type": "code",
        "colab": {}
      },
      "source": [
        "# 1)  Remove \"call\" columns from training and test\n",
        "train_keepers = [col for col in X_train.columns if \"call\" not in col]\n",
        "test_keepers = [col for col in X_test.columns if \"call\" not in col]\n",
        "X_train = X_train[train_keepers]\n",
        "X_test = X_test[test_keepers]"
      ],
      "execution_count": 0,
      "outputs": []
    },
    {
      "cell_type": "code",
      "metadata": {
        "_uuid": "3cde46384fdf62a3266684370f7dff96cf6f2d14",
        "id": "zFGHOJ97BjNz",
        "colab_type": "code",
        "outputId": "dbe0b370-f5da-45ab-d4c9-d8f741e0b2f8",
        "colab": {
          "base_uri": "https://localhost:8080/",
          "height": 34
        }
      },
      "source": [
        "X_train.shape,X_test.shape"
      ],
      "execution_count": 0,
      "outputs": [
        {
          "output_type": "execute_result",
          "data": {
            "text/plain": [
              "((7129, 40), (7129, 36))"
            ]
          },
          "metadata": {
            "tags": []
          },
          "execution_count": 7
        }
      ]
    },
    {
      "cell_type": "code",
      "metadata": {
        "_uuid": "cccd6332596b94d405414f5648138489646e423c",
        "id": "ExlJ6B5BBjO-",
        "colab_type": "code",
        "outputId": "22ad2f44-fccc-4251-e6b3-9cdbb6db8d23",
        "colab": {
          "base_uri": "https://localhost:8080/",
          "height": 412
        }
      },
      "source": [
        "# 2) Transpose\n",
        "X_train = X_train.T\n",
        "X_test = X_test.T\n",
        "X_train.head()"
      ],
      "execution_count": 0,
      "outputs": [
        {
          "output_type": "execute_result",
          "data": {
            "text/html": [
              "<div>\n",
              "<style scoped>\n",
              "    .dataframe tbody tr th:only-of-type {\n",
              "        vertical-align: middle;\n",
              "    }\n",
              "\n",
              "    .dataframe tbody tr th {\n",
              "        vertical-align: top;\n",
              "    }\n",
              "\n",
              "    .dataframe thead th {\n",
              "        text-align: right;\n",
              "    }\n",
              "</style>\n",
              "<table border=\"1\" class=\"dataframe\">\n",
              "  <thead>\n",
              "    <tr style=\"text-align: right;\">\n",
              "      <th></th>\n",
              "      <th>0</th>\n",
              "      <th>1</th>\n",
              "      <th>2</th>\n",
              "      <th>3</th>\n",
              "      <th>4</th>\n",
              "      <th>5</th>\n",
              "      <th>6</th>\n",
              "      <th>7</th>\n",
              "      <th>8</th>\n",
              "      <th>9</th>\n",
              "      <th>...</th>\n",
              "      <th>7119</th>\n",
              "      <th>7120</th>\n",
              "      <th>7121</th>\n",
              "      <th>7122</th>\n",
              "      <th>7123</th>\n",
              "      <th>7124</th>\n",
              "      <th>7125</th>\n",
              "      <th>7126</th>\n",
              "      <th>7127</th>\n",
              "      <th>7128</th>\n",
              "    </tr>\n",
              "  </thead>\n",
              "  <tbody>\n",
              "    <tr>\n",
              "      <th>Gene Description</th>\n",
              "      <td>AFFX-BioB-5_at (endogenous control)</td>\n",
              "      <td>AFFX-BioB-M_at (endogenous control)</td>\n",
              "      <td>AFFX-BioB-3_at (endogenous control)</td>\n",
              "      <td>AFFX-BioC-5_at (endogenous control)</td>\n",
              "      <td>AFFX-BioC-3_at (endogenous control)</td>\n",
              "      <td>AFFX-BioDn-5_at (endogenous control)</td>\n",
              "      <td>AFFX-BioDn-3_at (endogenous control)</td>\n",
              "      <td>AFFX-CreX-5_at (endogenous control)</td>\n",
              "      <td>AFFX-CreX-3_at (endogenous control)</td>\n",
              "      <td>AFFX-BioB-5_st (endogenous control)</td>\n",
              "      <td>...</td>\n",
              "      <td>Transcription factor Stat5b (stat5b) mRNA</td>\n",
              "      <td>Breast epithelial antigen BA46 mRNA</td>\n",
              "      <td>GB DEF = Calcium/calmodulin-dependent protein ...</td>\n",
              "      <td>TUBULIN ALPHA-4 CHAIN</td>\n",
              "      <td>CYP4B1 Cytochrome P450; subfamily IVB; polypep...</td>\n",
              "      <td>PTGER3 Prostaglandin E receptor 3 (subtype EP3...</td>\n",
              "      <td>HMG2 High-mobility group (nonhistone chromosom...</td>\n",
              "      <td>RB1 Retinoblastoma 1 (including osteosarcoma)</td>\n",
              "      <td>GB DEF = Glycophorin Sta (type A) exons 3 and ...</td>\n",
              "      <td>GB DEF = mRNA (clone 1A7)</td>\n",
              "    </tr>\n",
              "    <tr>\n",
              "      <th>Gene Accession Number</th>\n",
              "      <td>AFFX-BioB-5_at</td>\n",
              "      <td>AFFX-BioB-M_at</td>\n",
              "      <td>AFFX-BioB-3_at</td>\n",
              "      <td>AFFX-BioC-5_at</td>\n",
              "      <td>AFFX-BioC-3_at</td>\n",
              "      <td>AFFX-BioDn-5_at</td>\n",
              "      <td>AFFX-BioDn-3_at</td>\n",
              "      <td>AFFX-CreX-5_at</td>\n",
              "      <td>AFFX-CreX-3_at</td>\n",
              "      <td>AFFX-BioB-5_st</td>\n",
              "      <td>...</td>\n",
              "      <td>U48730_at</td>\n",
              "      <td>U58516_at</td>\n",
              "      <td>U73738_at</td>\n",
              "      <td>X06956_at</td>\n",
              "      <td>X16699_at</td>\n",
              "      <td>X83863_at</td>\n",
              "      <td>Z17240_at</td>\n",
              "      <td>L49218_f_at</td>\n",
              "      <td>M71243_f_at</td>\n",
              "      <td>Z78285_f_at</td>\n",
              "    </tr>\n",
              "    <tr>\n",
              "      <th>1</th>\n",
              "      <td>-214</td>\n",
              "      <td>-153</td>\n",
              "      <td>-58</td>\n",
              "      <td>88</td>\n",
              "      <td>-295</td>\n",
              "      <td>-558</td>\n",
              "      <td>199</td>\n",
              "      <td>-176</td>\n",
              "      <td>252</td>\n",
              "      <td>206</td>\n",
              "      <td>...</td>\n",
              "      <td>185</td>\n",
              "      <td>511</td>\n",
              "      <td>-125</td>\n",
              "      <td>389</td>\n",
              "      <td>-37</td>\n",
              "      <td>793</td>\n",
              "      <td>329</td>\n",
              "      <td>36</td>\n",
              "      <td>191</td>\n",
              "      <td>-37</td>\n",
              "    </tr>\n",
              "    <tr>\n",
              "      <th>2</th>\n",
              "      <td>-139</td>\n",
              "      <td>-73</td>\n",
              "      <td>-1</td>\n",
              "      <td>283</td>\n",
              "      <td>-264</td>\n",
              "      <td>-400</td>\n",
              "      <td>-330</td>\n",
              "      <td>-168</td>\n",
              "      <td>101</td>\n",
              "      <td>74</td>\n",
              "      <td>...</td>\n",
              "      <td>169</td>\n",
              "      <td>837</td>\n",
              "      <td>-36</td>\n",
              "      <td>442</td>\n",
              "      <td>-17</td>\n",
              "      <td>782</td>\n",
              "      <td>295</td>\n",
              "      <td>11</td>\n",
              "      <td>76</td>\n",
              "      <td>-14</td>\n",
              "    </tr>\n",
              "    <tr>\n",
              "      <th>3</th>\n",
              "      <td>-76</td>\n",
              "      <td>-49</td>\n",
              "      <td>-307</td>\n",
              "      <td>309</td>\n",
              "      <td>-376</td>\n",
              "      <td>-650</td>\n",
              "      <td>33</td>\n",
              "      <td>-367</td>\n",
              "      <td>206</td>\n",
              "      <td>-215</td>\n",
              "      <td>...</td>\n",
              "      <td>315</td>\n",
              "      <td>1199</td>\n",
              "      <td>33</td>\n",
              "      <td>168</td>\n",
              "      <td>52</td>\n",
              "      <td>1138</td>\n",
              "      <td>777</td>\n",
              "      <td>41</td>\n",
              "      <td>228</td>\n",
              "      <td>-41</td>\n",
              "    </tr>\n",
              "  </tbody>\n",
              "</table>\n",
              "<p>5 rows × 7129 columns</p>\n",
              "</div>"
            ],
            "text/plain": [
              "                                                      0     \\\n",
              "Gene Description       AFFX-BioB-5_at (endogenous control)   \n",
              "Gene Accession Number                       AFFX-BioB-5_at   \n",
              "1                                                     -214   \n",
              "2                                                     -139   \n",
              "3                                                      -76   \n",
              "\n",
              "                                                      1     \\\n",
              "Gene Description       AFFX-BioB-M_at (endogenous control)   \n",
              "Gene Accession Number                       AFFX-BioB-M_at   \n",
              "1                                                     -153   \n",
              "2                                                      -73   \n",
              "3                                                      -49   \n",
              "\n",
              "                                                      2     \\\n",
              "Gene Description       AFFX-BioB-3_at (endogenous control)   \n",
              "Gene Accession Number                       AFFX-BioB-3_at   \n",
              "1                                                      -58   \n",
              "2                                                       -1   \n",
              "3                                                     -307   \n",
              "\n",
              "                                                      3     \\\n",
              "Gene Description       AFFX-BioC-5_at (endogenous control)   \n",
              "Gene Accession Number                       AFFX-BioC-5_at   \n",
              "1                                                       88   \n",
              "2                                                      283   \n",
              "3                                                      309   \n",
              "\n",
              "                                                      4     \\\n",
              "Gene Description       AFFX-BioC-3_at (endogenous control)   \n",
              "Gene Accession Number                       AFFX-BioC-3_at   \n",
              "1                                                     -295   \n",
              "2                                                     -264   \n",
              "3                                                     -376   \n",
              "\n",
              "                                                       5     \\\n",
              "Gene Description       AFFX-BioDn-5_at (endogenous control)   \n",
              "Gene Accession Number                       AFFX-BioDn-5_at   \n",
              "1                                                      -558   \n",
              "2                                                      -400   \n",
              "3                                                      -650   \n",
              "\n",
              "                                                       6     \\\n",
              "Gene Description       AFFX-BioDn-3_at (endogenous control)   \n",
              "Gene Accession Number                       AFFX-BioDn-3_at   \n",
              "1                                                       199   \n",
              "2                                                      -330   \n",
              "3                                                        33   \n",
              "\n",
              "                                                      7     \\\n",
              "Gene Description       AFFX-CreX-5_at (endogenous control)   \n",
              "Gene Accession Number                       AFFX-CreX-5_at   \n",
              "1                                                     -176   \n",
              "2                                                     -168   \n",
              "3                                                     -367   \n",
              "\n",
              "                                                      8     \\\n",
              "Gene Description       AFFX-CreX-3_at (endogenous control)   \n",
              "Gene Accession Number                       AFFX-CreX-3_at   \n",
              "1                                                      252   \n",
              "2                                                      101   \n",
              "3                                                      206   \n",
              "\n",
              "                                                      9     \\\n",
              "Gene Description       AFFX-BioB-5_st (endogenous control)   \n",
              "Gene Accession Number                       AFFX-BioB-5_st   \n",
              "1                                                      206   \n",
              "2                                                       74   \n",
              "3                                                     -215   \n",
              "\n",
              "                                 ...              \\\n",
              "Gene Description                 ...               \n",
              "Gene Accession Number            ...               \n",
              "1                                ...               \n",
              "2                                ...               \n",
              "3                                ...               \n",
              "\n",
              "                                                            7119  \\\n",
              "Gene Description       Transcription factor Stat5b (stat5b) mRNA   \n",
              "Gene Accession Number                                  U48730_at   \n",
              "1                                                            185   \n",
              "2                                                            169   \n",
              "3                                                            315   \n",
              "\n",
              "                                                      7120  \\\n",
              "Gene Description       Breast epithelial antigen BA46 mRNA   \n",
              "Gene Accession Number                            U58516_at   \n",
              "1                                                      511   \n",
              "2                                                      837   \n",
              "3                                                     1199   \n",
              "\n",
              "                                                                    7121  \\\n",
              "Gene Description       GB DEF = Calcium/calmodulin-dependent protein ...   \n",
              "Gene Accession Number                                          U73738_at   \n",
              "1                                                                   -125   \n",
              "2                                                                    -36   \n",
              "3                                                                     33   \n",
              "\n",
              "                                        7122  \\\n",
              "Gene Description       TUBULIN ALPHA-4 CHAIN   \n",
              "Gene Accession Number              X06956_at   \n",
              "1                                        389   \n",
              "2                                        442   \n",
              "3                                        168   \n",
              "\n",
              "                                                                    7123  \\\n",
              "Gene Description       CYP4B1 Cytochrome P450; subfamily IVB; polypep...   \n",
              "Gene Accession Number                                          X16699_at   \n",
              "1                                                                    -37   \n",
              "2                                                                    -17   \n",
              "3                                                                     52   \n",
              "\n",
              "                                                                    7124  \\\n",
              "Gene Description       PTGER3 Prostaglandin E receptor 3 (subtype EP3...   \n",
              "Gene Accession Number                                          X83863_at   \n",
              "1                                                                    793   \n",
              "2                                                                    782   \n",
              "3                                                                   1138   \n",
              "\n",
              "                                                                    7125  \\\n",
              "Gene Description       HMG2 High-mobility group (nonhistone chromosom...   \n",
              "Gene Accession Number                                          Z17240_at   \n",
              "1                                                                    329   \n",
              "2                                                                    295   \n",
              "3                                                                    777   \n",
              "\n",
              "                                                                7126  \\\n",
              "Gene Description       RB1 Retinoblastoma 1 (including osteosarcoma)   \n",
              "Gene Accession Number                                    L49218_f_at   \n",
              "1                                                                 36   \n",
              "2                                                                 11   \n",
              "3                                                                 41   \n",
              "\n",
              "                                                                    7127  \\\n",
              "Gene Description       GB DEF = Glycophorin Sta (type A) exons 3 and ...   \n",
              "Gene Accession Number                                        M71243_f_at   \n",
              "1                                                                    191   \n",
              "2                                                                     76   \n",
              "3                                                                    228   \n",
              "\n",
              "                                            7128  \n",
              "Gene Description       GB DEF = mRNA (clone 1A7)  \n",
              "Gene Accession Number                Z78285_f_at  \n",
              "1                                            -37  \n",
              "2                                            -14  \n",
              "3                                            -41  \n",
              "\n",
              "[5 rows x 7129 columns]"
            ]
          },
          "metadata": {
            "tags": []
          },
          "execution_count": 8
        }
      ]
    },
    {
      "cell_type": "code",
      "metadata": {
        "_uuid": "dd4df98369e23b5bd7c96a39a7305b21a9b71b0e",
        "id": "MTfhHSlzBjPL",
        "colab_type": "code",
        "outputId": "ec255c76-6568-4ec5-f886-0a2cd3bb9bfe",
        "colab": {
          "base_uri": "https://localhost:8080/",
          "height": 34
        }
      },
      "source": [
        "X_train.shape"
      ],
      "execution_count": 0,
      "outputs": [
        {
          "output_type": "execute_result",
          "data": {
            "text/plain": [
              "(40, 7129)"
            ]
          },
          "metadata": {
            "tags": []
          },
          "execution_count": 9
        }
      ]
    },
    {
      "cell_type": "code",
      "metadata": {
        "_uuid": "3c87cc918a96ecadcb0ee69a5a3ae952376a71d6",
        "id": "XvaZBJ5vBjPX",
        "colab_type": "code",
        "outputId": "69a3d44a-adf7-4619-fd7e-16383ac3198e",
        "colab": {
          "base_uri": "https://localhost:8080/",
          "height": 347
        }
      },
      "source": [
        "# 3) Clean up the column names for training data\n",
        "X_train.columns = X_train.iloc[1]\n",
        "X_train = X_train.drop([\"Gene Description\", \"Gene Accession Number\"]).apply(pd.to_numeric)\n",
        "\n",
        "# Clean up the column names for Testing data\n",
        "X_test.columns = X_test.iloc[1]\n",
        "X_test = X_test.drop([\"Gene Description\", \"Gene Accession Number\"]).apply(pd.to_numeric)\n",
        "\n",
        "X_train.head()"
      ],
      "execution_count": 0,
      "outputs": [
        {
          "output_type": "execute_result",
          "data": {
            "text/html": [
              "<div>\n",
              "<style scoped>\n",
              "    .dataframe tbody tr th:only-of-type {\n",
              "        vertical-align: middle;\n",
              "    }\n",
              "\n",
              "    .dataframe tbody tr th {\n",
              "        vertical-align: top;\n",
              "    }\n",
              "\n",
              "    .dataframe thead th {\n",
              "        text-align: right;\n",
              "    }\n",
              "</style>\n",
              "<table border=\"1\" class=\"dataframe\">\n",
              "  <thead>\n",
              "    <tr style=\"text-align: right;\">\n",
              "      <th>Gene Accession Number</th>\n",
              "      <th>AFFX-BioB-5_at</th>\n",
              "      <th>AFFX-BioB-M_at</th>\n",
              "      <th>AFFX-BioB-3_at</th>\n",
              "      <th>AFFX-BioC-5_at</th>\n",
              "      <th>AFFX-BioC-3_at</th>\n",
              "      <th>AFFX-BioDn-5_at</th>\n",
              "      <th>AFFX-BioDn-3_at</th>\n",
              "      <th>AFFX-CreX-5_at</th>\n",
              "      <th>AFFX-CreX-3_at</th>\n",
              "      <th>AFFX-BioB-5_st</th>\n",
              "      <th>...</th>\n",
              "      <th>U48730_at</th>\n",
              "      <th>U58516_at</th>\n",
              "      <th>U73738_at</th>\n",
              "      <th>X06956_at</th>\n",
              "      <th>X16699_at</th>\n",
              "      <th>X83863_at</th>\n",
              "      <th>Z17240_at</th>\n",
              "      <th>L49218_f_at</th>\n",
              "      <th>M71243_f_at</th>\n",
              "      <th>Z78285_f_at</th>\n",
              "    </tr>\n",
              "  </thead>\n",
              "  <tbody>\n",
              "    <tr>\n",
              "      <th>1</th>\n",
              "      <td>-214</td>\n",
              "      <td>-153</td>\n",
              "      <td>-58</td>\n",
              "      <td>88</td>\n",
              "      <td>-295</td>\n",
              "      <td>-558</td>\n",
              "      <td>199</td>\n",
              "      <td>-176</td>\n",
              "      <td>252</td>\n",
              "      <td>206</td>\n",
              "      <td>...</td>\n",
              "      <td>185</td>\n",
              "      <td>511</td>\n",
              "      <td>-125</td>\n",
              "      <td>389</td>\n",
              "      <td>-37</td>\n",
              "      <td>793</td>\n",
              "      <td>329</td>\n",
              "      <td>36</td>\n",
              "      <td>191</td>\n",
              "      <td>-37</td>\n",
              "    </tr>\n",
              "    <tr>\n",
              "      <th>2</th>\n",
              "      <td>-139</td>\n",
              "      <td>-73</td>\n",
              "      <td>-1</td>\n",
              "      <td>283</td>\n",
              "      <td>-264</td>\n",
              "      <td>-400</td>\n",
              "      <td>-330</td>\n",
              "      <td>-168</td>\n",
              "      <td>101</td>\n",
              "      <td>74</td>\n",
              "      <td>...</td>\n",
              "      <td>169</td>\n",
              "      <td>837</td>\n",
              "      <td>-36</td>\n",
              "      <td>442</td>\n",
              "      <td>-17</td>\n",
              "      <td>782</td>\n",
              "      <td>295</td>\n",
              "      <td>11</td>\n",
              "      <td>76</td>\n",
              "      <td>-14</td>\n",
              "    </tr>\n",
              "    <tr>\n",
              "      <th>3</th>\n",
              "      <td>-76</td>\n",
              "      <td>-49</td>\n",
              "      <td>-307</td>\n",
              "      <td>309</td>\n",
              "      <td>-376</td>\n",
              "      <td>-650</td>\n",
              "      <td>33</td>\n",
              "      <td>-367</td>\n",
              "      <td>206</td>\n",
              "      <td>-215</td>\n",
              "      <td>...</td>\n",
              "      <td>315</td>\n",
              "      <td>1199</td>\n",
              "      <td>33</td>\n",
              "      <td>168</td>\n",
              "      <td>52</td>\n",
              "      <td>1138</td>\n",
              "      <td>777</td>\n",
              "      <td>41</td>\n",
              "      <td>228</td>\n",
              "      <td>-41</td>\n",
              "    </tr>\n",
              "    <tr>\n",
              "      <th>4</th>\n",
              "      <td>-135</td>\n",
              "      <td>-114</td>\n",
              "      <td>265</td>\n",
              "      <td>12</td>\n",
              "      <td>-419</td>\n",
              "      <td>-585</td>\n",
              "      <td>158</td>\n",
              "      <td>-253</td>\n",
              "      <td>49</td>\n",
              "      <td>31</td>\n",
              "      <td>...</td>\n",
              "      <td>240</td>\n",
              "      <td>835</td>\n",
              "      <td>218</td>\n",
              "      <td>174</td>\n",
              "      <td>-110</td>\n",
              "      <td>627</td>\n",
              "      <td>170</td>\n",
              "      <td>-50</td>\n",
              "      <td>126</td>\n",
              "      <td>-91</td>\n",
              "    </tr>\n",
              "    <tr>\n",
              "      <th>5</th>\n",
              "      <td>-106</td>\n",
              "      <td>-125</td>\n",
              "      <td>-76</td>\n",
              "      <td>168</td>\n",
              "      <td>-230</td>\n",
              "      <td>-284</td>\n",
              "      <td>4</td>\n",
              "      <td>-122</td>\n",
              "      <td>70</td>\n",
              "      <td>252</td>\n",
              "      <td>...</td>\n",
              "      <td>156</td>\n",
              "      <td>649</td>\n",
              "      <td>57</td>\n",
              "      <td>504</td>\n",
              "      <td>-26</td>\n",
              "      <td>250</td>\n",
              "      <td>314</td>\n",
              "      <td>14</td>\n",
              "      <td>56</td>\n",
              "      <td>-25</td>\n",
              "    </tr>\n",
              "  </tbody>\n",
              "</table>\n",
              "<p>5 rows × 7129 columns</p>\n",
              "</div>"
            ],
            "text/plain": [
              "Gene Accession Number  AFFX-BioB-5_at  AFFX-BioB-M_at  AFFX-BioB-3_at  \\\n",
              "1                                -214            -153             -58   \n",
              "2                                -139             -73              -1   \n",
              "3                                 -76             -49            -307   \n",
              "4                                -135            -114             265   \n",
              "5                                -106            -125             -76   \n",
              "\n",
              "Gene Accession Number  AFFX-BioC-5_at  AFFX-BioC-3_at  AFFX-BioDn-5_at  \\\n",
              "1                                  88            -295             -558   \n",
              "2                                 283            -264             -400   \n",
              "3                                 309            -376             -650   \n",
              "4                                  12            -419             -585   \n",
              "5                                 168            -230             -284   \n",
              "\n",
              "Gene Accession Number  AFFX-BioDn-3_at  AFFX-CreX-5_at  AFFX-CreX-3_at  \\\n",
              "1                                  199            -176             252   \n",
              "2                                 -330            -168             101   \n",
              "3                                   33            -367             206   \n",
              "4                                  158            -253              49   \n",
              "5                                    4            -122              70   \n",
              "\n",
              "Gene Accession Number  AFFX-BioB-5_st     ...       U48730_at  U58516_at  \\\n",
              "1                                 206     ...             185        511   \n",
              "2                                  74     ...             169        837   \n",
              "3                                -215     ...             315       1199   \n",
              "4                                  31     ...             240        835   \n",
              "5                                 252     ...             156        649   \n",
              "\n",
              "Gene Accession Number  U73738_at  X06956_at  X16699_at  X83863_at  Z17240_at  \\\n",
              "1                           -125        389        -37        793        329   \n",
              "2                            -36        442        -17        782        295   \n",
              "3                             33        168         52       1138        777   \n",
              "4                            218        174       -110        627        170   \n",
              "5                             57        504        -26        250        314   \n",
              "\n",
              "Gene Accession Number  L49218_f_at  M71243_f_at  Z78285_f_at  \n",
              "1                               36          191          -37  \n",
              "2                               11           76          -14  \n",
              "3                               41          228          -41  \n",
              "4                              -50          126          -91  \n",
              "5                               14           56          -25  \n",
              "\n",
              "[5 rows x 7129 columns]"
            ]
          },
          "metadata": {
            "tags": []
          },
          "execution_count": 10
        }
      ]
    },
    {
      "cell_type": "code",
      "metadata": {
        "_uuid": "2848a3a65a11c37881f812ee7f39429ec3458999",
        "id": "5cFQr9XXBjPl",
        "colab_type": "code",
        "outputId": "9980c99b-3c23-4653-c11c-80cf6e86dd03",
        "colab": {
          "base_uri": "https://localhost:8080/",
          "height": 34
        }
      },
      "source": [
        "X_train.shape,X_test.shape"
      ],
      "execution_count": 0,
      "outputs": [
        {
          "output_type": "execute_result",
          "data": {
            "text/plain": [
              "((38, 7129), (34, 7129))"
            ]
          },
          "metadata": {
            "tags": []
          },
          "execution_count": 11
        }
      ]
    },
    {
      "cell_type": "code",
      "metadata": {
        "_uuid": "880d9d3f04aa92da36b5e877d278e91fb431bc84",
        "id": "8Nf93ammBjPz",
        "colab_type": "code",
        "outputId": "28aef04b-72de-4934-cae2-22dabecca7b4",
        "colab": {
          "base_uri": "https://localhost:8080/",
          "height": 34
        }
      },
      "source": [
        "# 4) Split into train and test \n",
        "X_train = X_train.reset_index(drop=True)\n",
        "print(X_train.shape)\n",
        "y_train = y[y.patient <= 38].reset_index(drop=True)\n",
        "# Subet the rest for testing\n",
        "X_test = X_test.reset_index(drop=True)\n",
        "y_test = y[y.patient > 38].reset_index(drop=True)"
      ],
      "execution_count": 0,
      "outputs": [
        {
          "output_type": "stream",
          "text": [
            "(38, 7129)\n"
          ],
          "name": "stdout"
        }
      ]
    },
    {
      "cell_type": "markdown",
      "metadata": {
        "_uuid": "e03bba4a1a3de9cdd7a5e789a4faf5051f7c7195",
        "id": "1b0e10biBjP-",
        "colab_type": "text"
      },
      "source": [
        "## Scale data"
      ]
    },
    {
      "cell_type": "code",
      "metadata": {
        "id": "4R-JwxeOBjQM",
        "colab_type": "code",
        "colab": {}
      },
      "source": [
        "X = X_train.append(X_test)"
      ],
      "execution_count": 0,
      "outputs": []
    },
    {
      "cell_type": "code",
      "metadata": {
        "id": "qX3TCTsqBjQS",
        "colab_type": "code",
        "colab": {}
      },
      "source": [
        "X = X.reset_index(drop=True)"
      ],
      "execution_count": 0,
      "outputs": []
    },
    {
      "cell_type": "code",
      "metadata": {
        "_uuid": "b89a17004badb53f42578391789ade80874e042f",
        "id": "_CCuiB6KBjQY",
        "colab_type": "code",
        "outputId": "469b8fe9-1da6-4f65-97c5-f07b2b1932f5",
        "colab": {
          "base_uri": "https://localhost:8080/",
          "height": 91
        }
      },
      "source": [
        "scaler = MinMaxScaler()\n",
        "X_scl = scaler.fit_transform(X)"
      ],
      "execution_count": 0,
      "outputs": [
        {
          "output_type": "stream",
          "text": [
            "/usr/local/lib/python3.6/dist-packages/sklearn/preprocessing/data.py:323: DataConversionWarning: Data with input dtype int64 were all converted to float64 by MinMaxScaler.\n",
            "  return self.partial_fit(X, y)\n"
          ],
          "name": "stderr"
        }
      ]
    },
    {
      "cell_type": "code",
      "metadata": {
        "id": "e6XKJJUnBjQg",
        "colab_type": "code",
        "outputId": "395f71db-fcc9-444c-8440-c478aea7cff0",
        "colab": {
          "base_uri": "https://localhost:8080/",
          "height": 34
        }
      },
      "source": [
        "X_scl.shape"
      ],
      "execution_count": 0,
      "outputs": [
        {
          "output_type": "execute_result",
          "data": {
            "text/plain": [
              "(72, 7129)"
            ]
          },
          "metadata": {
            "tags": []
          },
          "execution_count": 16
        }
      ]
    },
    {
      "cell_type": "code",
      "metadata": {
        "id": "amVq81GDBjQq",
        "colab_type": "code",
        "colab": {}
      },
      "source": [
        "y = y['cancer']"
      ],
      "execution_count": 0,
      "outputs": []
    },
    {
      "cell_type": "code",
      "metadata": {
        "id": "uxwiFtmgBjQx",
        "colab_type": "code",
        "colab": {}
      },
      "source": [
        "from sklearn import preprocessing\n",
        "le = preprocessing.LabelEncoder()\n",
        "y = le.fit_transform(y)"
      ],
      "execution_count": 0,
      "outputs": []
    },
    {
      "cell_type": "markdown",
      "metadata": {
        "id": "Pvvj2FE28ai_",
        "colab_type": "text"
      },
      "source": [
        "### Model Classes"
      ]
    },
    {
      "cell_type": "markdown",
      "metadata": {
        "id": "vNRiWUtu8uOB",
        "colab_type": "text"
      },
      "source": [
        "Neuron Class"
      ]
    },
    {
      "cell_type": "code",
      "metadata": {
        "colab_type": "code",
        "id": "f-ZGzS_OhNyd",
        "colab": {}
      },
      "source": [
        "class Neuron:\n",
        "    \n",
        "    def __init__(self, weights=[], bias=1, dim=0, activation_fn = 'sig'):\n",
        "        self.weights = weights\n",
        "        self.bias = 1\n",
        "        #self.wieghts = np.insert(np.array(self.weights),len(self.weights), bias)\n",
        "        self.input_dim = dim\n",
        "        self.act_fn = activation_fn\n",
        "    def relu(self,x):\n",
        "        if x>0:\n",
        "            return float(x)\n",
        "        else:\n",
        "            return float(0)\n",
        "        \n",
        "    def sigmoid(self,x):\n",
        "        return 1.0 / (1.0 + np.exp(-1.0 *x))\n",
        "    def _act_function(self, ws):\n",
        "        if self.act_fn == 'sig':\n",
        "            return self.sigmoid(ws)\n",
        "        elif self.act_fn == 'relu':\n",
        "            return self.relu(ws)\n",
        "    def assign_bias(self,b):\n",
        "        self.bias = b\n",
        "    def wt_sum(self, x):\n",
        "        w = np.multiply(np.array(self.weights, dtype = 'float64') , np.array(x, dtype = 'float64'))\n",
        "        return np.sum(w)\n",
        "    def assign_w(self, weights):\n",
        "        self.weights = weights\n",
        "    def propagate(self, x):\n",
        "        p = self.wt_sum(x) + self.bias\n",
        "        return self._act_function(p) , p"
      ],
      "execution_count": 0,
      "outputs": []
    },
    {
      "cell_type": "markdown",
      "metadata": {
        "id": "cORXwkoY8xHx",
        "colab_type": "text"
      },
      "source": [
        "Layer Class"
      ]
    },
    {
      "cell_type": "code",
      "metadata": {
        "colab_type": "code",
        "id": "LAUNXb5IhO9T",
        "colab": {}
      },
      "source": [
        "class Layer:\n",
        "    \n",
        "    def __init__(self, n=1, prev = 0, activation_fn = 'sig'):\n",
        "        self.no_neuron = n\n",
        "        self.prev_layer = prev\n",
        "        self.neurons = []\n",
        "        self.activation_fn = activation_fn\n",
        "        for i in range(n):\n",
        "            neu = Neuron(dim = prev,bias = 1,activation_fn = activation_fn)\n",
        "            self.neurons.append(neu)\n",
        "    def weights(self):\n",
        "        we = []\n",
        "        for neu in self.neurons:\n",
        "            we.append(neu.weights)\n",
        "        return np.array(we)\n",
        "    def weight_mat(self, w):\n",
        "        for i in range(self.no_neuron):\n",
        "            self.neurons[i].assign_w(w[i])\n",
        "    def assign_b(self,b):\n",
        "        for i in range(self.no_neuron):\n",
        "            self.neurons[i].assign_bias(b[i])\n",
        "    def biases(self):\n",
        "        we = []\n",
        "        for neu in self.neurons:\n",
        "            we.append(neu.bias)\n",
        "        return np.array(we)\n",
        "    #Generate output for the layer\n",
        "    def generate(self, inputs):\n",
        "        output = []\n",
        "        z = []\n",
        "        for i in range(self.no_neuron):\n",
        "            o,zz = self.neurons[i].propagate(inputs)\n",
        "            output.append(o)\n",
        "            z.append(zz)\n",
        "        self.output = np.array(output)\n",
        "        return self.output , np.array(z)"
      ],
      "execution_count": 0,
      "outputs": []
    },
    {
      "cell_type": "markdown",
      "metadata": {
        "id": "uYysicXA81-R",
        "colab_type": "text"
      },
      "source": [
        "Neural Network (Main Class)"
      ]
    },
    {
      "cell_type": "code",
      "metadata": {
        "colab_type": "code",
        "id": "qnJTmOLJhSMM",
        "colab": {}
      },
      "source": [
        "class NeuralNetwork:\n",
        "    \n",
        "    def __init__ (self, learning_rate = 0.01, no_input=1, no_output=1, no_hidden_layers=1, hidden_dim=[40], batch_siz = 1, h_act = ['relu'], o_act = 'sig', random_state = 42):\n",
        "        self.learning_rate = learning_rate\n",
        "        self.no_input = no_input\n",
        "        self.no_output = no_output\n",
        "        self.no_hidden_layers = no_hidden_layers\n",
        "        self.hidden_dim = hidden_dim\n",
        "        self.batch_siz = batch_siz\n",
        "        np.random.seed(random_state)\n",
        "        # Initialize Hidden layer\n",
        "        self.hidden_layer = list()\n",
        "        self.hidden_layer.append(Layer(n = self.hidden_dim[0],prev = self.no_input, activation_fn = h_act[0]))\n",
        "        \n",
        "        # Initialize weights and bias for hidden and outplut layers\n",
        "        \n",
        "        self.hidden_layer[0].weight_mat(w=np.random.randn(self.hidden_dim[0],self.no_input)*0.01)\n",
        "        self.hidden_layer[0].assign_b(b=np.zeros(self.hidden_dim[0]))\n",
        "        for i in range(1,self.no_hidden_layers):\n",
        "            self.hidden_layer.append(Layer(n = self.hidden_dim[i],prev = self.hidden_dim[i-1], activation_fn = h_act[i]))\n",
        "            self.hidden_layer[i].weight_mat(w=np.random.randn(self.hidden_dim[i],self.hidden_dim[i-1])*0.01)\n",
        "            self.hidden_layer[i].assign_b(b=np.zeros(self.hidden_dim[i]))\n",
        "        \n",
        "        self.output_layer = Layer(n = self.no_output, prev = self.hidden_dim[-1], activation_fn = o_act)\n",
        "        self.output_layer.weight_mat(w=np.random.randn(self.no_output,self.hidden_dim[-1])*0.01)\n",
        "        self.output_layer.assign_b(b=np.zeros(self.no_output))\n",
        "    \n",
        "    def sigmoid(self,x):\n",
        "        return 1.0 / (1.0 + np.exp(-1.0 * np.array(x)))\n",
        "        \n",
        "    def feedForward(self, inputs):\n",
        "        # Feed forward the input row to the first hidden layer and the subsequent network\n",
        "        # Return the output of each layer and Weighted sum for each layer\n",
        "        ai = list()\n",
        "        zi = list()\n",
        "        hiddenl_i = inputs\n",
        "        hiddenl_o = None\n",
        "        for lay in self.hidden_layer:\n",
        "            hiddenl_o, z = lay.generate(hiddenl_i)\n",
        "            ai.append(hiddenl_o)\n",
        "            zi.append(z)\n",
        "            hiddenl_i = hiddenl_o\n",
        "        outputl_o, z = self.output_layer.generate(hiddenl_o)\n",
        "        ai.append(outputl_o)\n",
        "        zi.append(z)\n",
        "        return ai,zi\n",
        "    \n",
        "    def der_of_act(self,layer,a):\n",
        "        \n",
        "        #Calculates the output according to the derivative of the activation function\n",
        "        \n",
        "        if layer.activation_fn == 'sig':\n",
        "            return np.array(self.sigmoid(a))*(1.0 - np.array(self.sigmoid(a)))\n",
        "        elif layer.activation_fn == 'relu':\n",
        "            d = []\n",
        "            for x in a:\n",
        "                if x>0:\n",
        "                    d.append(1.0)\n",
        "                else:\n",
        "                    d.append(0.0)\n",
        "            return np.array(d)\n",
        "    def der_of_cost(self,layer,a, y):\n",
        "        \n",
        "        #Calculates the output according to the derivative of the cost function\n",
        "        \n",
        "        if layer.activation_fn == 'relu':\n",
        "            return np.subtract(np.array(a), np.array(y))\n",
        "        elif layer.activation_fn == 'sig':\n",
        "            return (np.subtract(np.array(a), np.array(y))) / (np.array(a)*(1.0 - np.array(a)))\n",
        "        \n",
        "    def delt(self, x_train, y_train,lamda):\n",
        "        ai,zi = self.feedForward(x_train)\n",
        "        err = list()\n",
        "        \n",
        "        # Calculate the Error term for output layer\n",
        "        err.append(np.subtract(ai[-1],y_train))\n",
        "        \n",
        "        # Propagate the error backwards into the hidden layers\n",
        "       \n",
        "        w_o = self.output_layer.weights()\n",
        "        e = np.multiply(np.dot(err[0].reshape(1,self.no_output),w_o), self.der_of_act(self.hidden_layer[-1],zi[-2]))\n",
        "        err.insert(0,e.reshape(1,self.hidden_dim[-1]))\n",
        "        for i in range(2, self.no_hidden_layers+1):\n",
        "            w_h = self.hidden_layer[-i+1].weights()\n",
        "            e = np.multiply(np.dot(err[0].reshape(1,self.hidden_dim[-i+1]),w_h), self.der_of_act(self.hidden_layer[-i],zi[-i-1]) )\n",
        "            err.insert(0,e.reshape(1,self.hidden_dim[-i]))\n",
        "            \n",
        "        # Calculate delta J/ del Weights\n",
        "        delta = []\n",
        "        newl = list()\n",
        "        newl.extend(self.hidden_layer)\n",
        "        newl.append(self.output_layer)\n",
        "        delta.append(self.learning_rate * np.add(np.dot(err[0].T, x_train[np.newaxis]),(lamda*self.hidden_layer[0].weights())))\n",
        "        for i in range(1,len(err)):\n",
        "            delta.append(self.learning_rate * np.add(np.dot(err[i].T, ai[i-1][np.newaxis]) , (lamda*newl[i].weights())) )\n",
        "        \n",
        "        # Return deltas and errors for each layer\n",
        "        return delta, err\n",
        "    \n",
        "    def fit(self, X , y, no_epochs,lamda):\n",
        "        epoch = 1\n",
        "        eper = {}\n",
        "        er = {}\n",
        "        if no_epochs is None:\n",
        "            epoch = 1\n",
        "        else:\n",
        "            epoch = no_epochs\n",
        "            \n",
        "        # Train for each epoch\n",
        "        for ep in range(epoch):\n",
        "            q = 0\n",
        "            \n",
        "            # Calculate Delta and erors in batches of the batch_siz\n",
        "            \n",
        "            for i in range(int(len(X)/self.batch_siz)):\n",
        "                d = None\n",
        "                e = None\n",
        "                rmse = 0\n",
        "                for j in range(self.batch_siz):\n",
        "                    delta, err = self.delt(X[q],y[q], lamda)\n",
        "                    if d == None:\n",
        "                        d = delta\n",
        "                        e = err\n",
        "                    else:\n",
        "                        for k in range(len(d)):\n",
        "                            d[k] = np.add(d[k] , delta[k])\n",
        "                        for k in range(len(e)):\n",
        "                            e[k] = np.add(e[k] , err[k])\n",
        "                    err[-1] = np.array(err[-1]) ** 2\n",
        "                    rmse = rmse +  np.sum(err[-1])\n",
        "                    q = q+1\n",
        "\n",
        "                for l in range(len(d)):\n",
        "                    d[l] = d[l] / self.batch_siz\n",
        "                for l in range(len(e)):\n",
        "                    e[l] = (np.divide(e[l], self.batch_siz) * self.learning_rate)\n",
        "                rmse = rmse / self.batch_siz\n",
        "                er.update({(ep*len(X))+q:rmse})\n",
        "                \n",
        "                eper.update({(ep*len(X))+q:np.mean(list(er.values()))})\n",
        "                \n",
        "                ##Weight and bias update for hidden and output layer\n",
        "                \n",
        "                for m in range(self.no_hidden_layers):\n",
        "                    self.hidden_layer[m].weight_mat(np.subtract(self.hidden_layer[m].weights(),d[m]))\n",
        "                    \n",
        "                    bi = np.subtract(self.hidden_layer[m].biases()[np.newaxis],e[m]).reshape(self.hidden_dim[m],)\n",
        "\n",
        "                    self.hidden_layer[m].assign_b(bi)\n",
        "                self.output_layer.weight_mat(np.subtract(self.output_layer.weights(),d[-1]))\n",
        "                self.output_layer.assign_b(np.subtract(self.output_layer.biases(),e[-1]))\n",
        "        \n",
        "        # Return mean RMSE for each training example for each epoch\n",
        "        return eper\n",
        "    \n",
        "    def predict(self, X):\n",
        "        y = []\n",
        "        for x in X:\n",
        "            ai,xi = self.feedForward(x)\n",
        "            y.append(ai[-1])\n",
        "        y = np.array(y)\n",
        "        return y  \n",
        "    def predict_class(self, X):\n",
        "        \n",
        "        #Predict class in case of Sigmoid output layer with threshold set to 0.5\n",
        "        \n",
        "        y = self.predict(X)\n",
        "        for i in range(len(y)):\n",
        "            if y[i]>0.5:\n",
        "                y[i] = 1\n",
        "            else:\n",
        "                y[i] = 0\n",
        "        return y"
      ],
      "execution_count": 0,
      "outputs": []
    },
    {
      "cell_type": "code",
      "metadata": {
        "id": "7phDy62VBjRh",
        "colab_type": "code",
        "colab": {}
      },
      "source": [
        "from sklearn.model_selection import train_test_split\n",
        "X_train, X_test,y_train, y_test = train_test_split(X_scl, y, test_size = 0.33, random_state = 42) "
      ],
      "execution_count": 0,
      "outputs": []
    },
    {
      "cell_type": "markdown",
      "metadata": {
        "id": "hCLA_0tE9Dnq",
        "colab_type": "text"
      },
      "source": [
        "## Creating and training the model"
      ]
    },
    {
      "cell_type": "code",
      "metadata": {
        "id": "PDvg7rLaBjRt",
        "colab_type": "code",
        "colab": {}
      },
      "source": [
        "nn = NeuralNetwork(no_input=7129, no_hidden_layers= 2, hidden_dim=[50,50], h_act = ['relu','relu'], o_act = 'sig', batch_siz = 1)\n",
        "er = nn.fit(X_train, y_train, no_epochs = 1000,lamda = 0.01)"
      ],
      "execution_count": 0,
      "outputs": []
    },
    {
      "cell_type": "markdown",
      "metadata": {
        "id": "HAzfncy09KTa",
        "colab_type": "text"
      },
      "source": [
        "Checking The validation Accuracy Score"
      ]
    },
    {
      "cell_type": "code",
      "metadata": {
        "id": "NNkN-X4FBjRy",
        "colab_type": "code",
        "outputId": "5d2c3e6f-70c4-4936-dadc-f786f7898f35",
        "colab": {
          "base_uri": "https://localhost:8080/",
          "height": 34
        }
      },
      "source": [
        "from sklearn.metrics import accuracy_score\n",
        "pred = nn.predict_class(X_test)\n",
        "\n",
        "acc = accuracy_score(y_true = y_test, y_pred = pred)\n",
        "print(acc)"
      ],
      "execution_count": 0,
      "outputs": [
        {
          "output_type": "stream",
          "text": [
            "0.8333333333333334\n"
          ],
          "name": "stdout"
        }
      ]
    },
    {
      "cell_type": "markdown",
      "metadata": {
        "id": "vS_re6Pw9QW7",
        "colab_type": "text"
      },
      "source": [
        "## Graph of Error vs Training examples"
      ]
    },
    {
      "cell_type": "code",
      "metadata": {
        "id": "53BZSeAltTTq",
        "colab_type": "code",
        "outputId": "8049a4f2-a4cb-4527-fb47-4ae5feab2964",
        "colab": {
          "base_uri": "https://localhost:8080/",
          "height": 265
        }
      },
      "source": [
        "import matplotlib.pylab as plt\n",
        "%matplotlib inline\n",
        "\n",
        "plt.plot(list(er.keys()), list(er.values()))\n",
        "plt.show()"
      ],
      "execution_count": 0,
      "outputs": [
        {
          "output_type": "display_data",
          "data": {
            "image/png": "[encoded data removed]",
            "text/plain": [
              "<Figure size 432x288 with 1 Axes>"
            ]
          },
          "metadata": {
            "tags": []
          }
        }
      ]
    },
    {
      "cell_type": "code",
      "metadata": {
        "id": "hOteqIGKu--k",
        "colab_type": "code",
        "colab": {}
      },
      "source": [
        ""
      ],
      "execution_count": 0,
      "outputs": []
    }
  ]
}